{
 "cells": [
  {
   "cell_type": "code",
   "execution_count": 1,
   "id": "c7f520f2-5096-4d08-8564-72ebc2844986",
   "metadata": {},
   "outputs": [
    {
     "data": {
      "text/plain": [
       "(array([0., 3., 0., ..., 0., 0., 0.]), array([0., 0., 0., ..., 0., 0., 0.]))"
      ]
     },
     "execution_count": 1,
     "metadata": {},
     "output_type": "execute_result"
    }
   ],
   "source": [
    "import json\n",
    "from torch.utils.data import Dataset, DataLoader\n",
    "from typing import Optional\n",
    "from rdkit import Chem\n",
    "from rdkit.Chem import AllChem\n",
    "from rdkit.Chem import DataStructs\n",
    "from enum import Enum\n",
    "import numpy as np\n",
    "from typing import Callable, List, Any, Optional\n",
    "\n",
    "def fingerprint(mol, nbits=1024) -> np.array:\n",
    "    fp = AllChem.GetHashedMorganFingerprint(mol, 2, nBits=nbits)\n",
    "    mol_rep = np.zeros((0,))\n",
    "    DataStructs.ConvertToNumpyArray(fp, mol_rep)\n",
    "    return mol_rep\n",
    "\n",
    "\n",
    "MAX_MZ = 2000\n",
    "def encode_spec(spec):\n",
    "    vec = np.zeros(MAX_MZ * 2)\n",
    "    for i in range(spec.shape[0]):\n",
    "        mz_rnd = int(spec[i, 0])\n",
    "        if mz_rnd >= MAX_MZ:\n",
    "            continue\n",
    "        logint= np.log10(spec[i, 1] + 1)\n",
    "        if vec[mz_rnd] == 0 or vec[mz_rnd] < logint:\n",
    "            vec[mz_rnd] = logint\n",
    "            vec[MAX_MZ + mz_rnd] = np.log10((spec[i, 0] - mz_rnd) + 1)\n",
    "    return vec\n",
    "\n",
    "def gnps_parser(fname, from_mol: int = 0, to_mol: Optional[int] = None) -> List[Any]:\n",
    "    molecules = []\n",
    "    spectra = []\n",
    "    with open(fname) as fl:\n",
    "        for i, line in enumerate(fl.readlines()[from_mol:]):\n",
    "            if to_mol is not None and from_mol + i >=  to_mol:\n",
    "                break\n",
    "            spec_str, smiles = line.strip().split('\\t')\n",
    "            spec = np.array(json.loads(spec_str))\n",
    "            if len(spec) == 0 or len(spec.shape) != 2 or (spec <= 0).sum() > 0:\n",
    "                continue\n",
    "            # Round to 3 digits M/Z precision\n",
    "            spec[:, 0] = np.round(spec[:, 0], 3)\n",
    "            # We'll predict relative intensities\n",
    "            #spec[:, 1] /= spec[:, 1].max()\n",
    "            mol = Chem.MolFromSmiles(smiles)\n",
    "            molecules.append(mol)\n",
    "            spectra.append(encode_spec(spec))\n",
    "            \n",
    "    return molecules, spectra\n",
    "\n",
    "\n",
    "\n",
    "class Mol2PropertiesDataset(Dataset):\n",
    "    def __init__(\n",
    "        self,\n",
    "        fname: str,\n",
    "        parser: Callable,\n",
    "        mol_representation: Callable = fingerprint, \n",
    "        from_mol: int = 0,\n",
    "        to_mol: Optional[int] = None,\n",
    "        property_names: Optional[List[str]] = None,\n",
    "        **mol_rep_kwargs,\n",
    "    ):\n",
    "        self.molecules, self.properties = parser(fname, from_mol=from_mol, to_mol=to_mol)\n",
    "        self.property_names = property_names\n",
    "        self.mol_representation = mol_representation\n",
    "        self.mol_rep_kwargs = mol_rep_kwargs\n",
    "        self.mol_reps = [self.mol_representation(mol, **mol_rep_kwargs) for mol in self.molecules]\n",
    "\n",
    "    def __len__(self):\n",
    "        return len(self.mol_reps)\n",
    "\n",
    "    def __getitem__(self, idx: int):\n",
    "        return self.mol_reps[idx], self.properties[idx]\n",
    "    \n",
    "ms2dataset = Mol2PropertiesDataset('data/pos_processed_gnps.txt', parser=gnps_parser, mol_representation=fingerprint, from_mol=0, to_mol=200)\n",
    "ms2dataset[0]"
   ]
  },
  {
   "cell_type": "code",
   "execution_count": null,
   "id": "30f02318-aeee-40ae-a04a-1762c3f75727",
   "metadata": {},
   "outputs": [],
   "source": []
  },
  {
   "cell_type": "code",
   "execution_count": 50,
   "id": "2f4121e9-f336-46a2-b0fc-9e45c03e0b82",
   "metadata": {},
   "outputs": [
    {
     "data": {
      "image/png": "[encoded data removed]",
      "text/plain": [
       "<Figure size 144x144 with 1 Axes>"
      ]
     },
     "metadata": {
      "needs_background": "light"
     },
     "output_type": "display_data"
    },
    {
     "data": {
      "image/png": "[encoded data removed]",
      "text/plain": [
       "<Figure size 1080x216 with 1 Axes>"
      ]
     },
     "metadata": {
      "needs_background": "light"
     },
     "output_type": "display_data"
    }
   ],
   "source": [
    "from matplotlib import pyplot as plt\n",
    "def decode_spec(flatspec: np.array) -> np.array:\n",
    "    intensities = flatspec[:len(flatspec) // 2]\n",
    "    spln = sum(intensities > 0) \n",
    "    spec = np.zeros([spln, 2])\n",
    "    \n",
    "    spec[:, 1] = 10**(intensities[intensities > 0]) - 1\n",
    "    spec[:, 0] = np.where(intensities > 0)[0] + (10**(flatspec[len(flatspec) // 2:][intensities > 0]) - 1)\n",
    "    return spec\n",
    "                            \n",
    "def plot_specs(flatspec1, flatspec2, labels=['one', 'two'], mol=None):\n",
    "    if mol is not None:\n",
    "        f = Chem.Draw.MolToMPL(mol, size=(200,200))\n",
    "        plt.axis('off')\n",
    "    f, axarr = plt.subplots(nrows=1,  ncols=1,figsize=(15, 3))\n",
    "    s1, s2 = decode_spec(flatspec1), decode_spec(flatspec2)\n",
    "    axarr.vlines(s1[:, 0], ymin=0, ymax=s1[:, 1], color='red', label=labels[0])\n",
    "    axarr.vlines(s2[:, 0], ymin=-s2[:, 1], ymax=0, color='blue', label=labels[1])\n",
    "    axarr.legend()\n",
    "    \n",
    "    \n",
    "idx = 12\n",
    "plot_specs(ms2dataset[idx][1], ms2dataset[idx][1], mol=ms2dataset.molecules[idx])"
   ]
  },
  {
   "cell_type": "code",
   "execution_count": 3,
   "id": "7e472164-4339-489f-9950-dfb137df813e",
   "metadata": {},
   "outputs": [
    {
     "name": "stdout",
     "output_type": "stream",
     "text": [
      "cuda:0\n"
     ]
    }
   ],
   "source": [
    "import torch\n",
    "\n",
    "if torch.cuda.is_available():  \n",
    "    dev = \"cuda:0\" \n",
    "else:  \n",
    "    dev = \"cpu\" \n",
    "device = torch.device(dev)\n",
    "print(device)"
   ]
  },
  {
   "cell_type": "code",
   "execution_count": 4,
   "id": "1272135d-388c-4855-b15c-d571ac752190",
   "metadata": {},
   "outputs": [
    {
     "name": "stderr",
     "output_type": "stream",
     "text": [
      "RDKit WARNING: [10:26:04] WARNING: not removing hydrogen atom without neighbors\n",
      "[10:26:04] WARNING: not removing hydrogen atom without neighbors\n"
     ]
    },
    {
     "data": {
      "text/plain": [
       "14530"
      ]
     },
     "execution_count": 4,
     "metadata": {},
     "output_type": "execute_result"
    }
   ],
   "source": [
    "molecule_dim = 4096\n",
    "prop_dim = MAX_MZ * 2\n",
    "\n",
    "to_idx = 15000\n",
    "train_data= Mol2PropertiesDataset('data/pos_processed_gnps.txt', parser=gnps_parser, mol_representation=fingerprint, from_mol=0, to_mol=to_idx, nbits=molecule_dim)\n",
    "test_data = Mol2PropertiesDataset('data/pos_processed_gnps.txt', parser=gnps_parser, mol_representation=fingerprint, from_mol=to_idx, to_mol=to_idx + 100, nbits=molecule_dim)\n",
    "len(train_data)"
   ]
  },
  {
   "cell_type": "code",
   "execution_count": 5,
   "id": "fa94f922-2e87-40da-a834-8fa74822887c",
   "metadata": {},
   "outputs": [
    {
     "name": "stderr",
     "output_type": "stream",
     "text": [
      "100%|█████████████████████████████████████████████████████████████████████████████████| 400/400 [31:00<00:00,  4.65s/it]\n"
     ]
    },
    {
     "data": {
      "text/plain": [
       "Text(0, 0.5, 'Loss')"
      ]
     },
     "execution_count": 5,
     "metadata": {},
     "output_type": "execute_result"
    },
    {
     "data": {
      "image/png": "[encoded data removed]",
      "text/plain": [
       "<Figure size 432x288 with 1 Axes>"
      ]
     },
     "metadata": {
      "needs_background": "light"
     },
     "output_type": "display_data"
    }
   ],
   "source": [
    "import torch.nn as nn\n",
    "import torch.nn.functional as F\n",
    "import torch.optim as optim\n",
    "\n",
    "from matplotlib import pyplot as plt\n",
    "from tqdm import tqdm\n",
    "\n",
    "torch.cuda.empty_cache() \n",
    "\n",
    "class ResBlock(torch.nn.Module):\n",
    "    def __init__(self, module):\n",
    "        super().__init__()\n",
    "        self.module = module\n",
    "\n",
    "    def forward(self, inputs):\n",
    "        return self.module(inputs) + inputs\n",
    "\n",
    "class Mol2SpecSimple(nn.Module):\n",
    "    def __init__(self, molecule_dim: int, prop_dim: int):\n",
    "        super().__init__()\n",
    "        self.molecule_dim = molecule_dim\n",
    "        self.prop_dim = prop_dim\n",
    "        \n",
    "        hdim = 2000\n",
    "        \n",
    "        nl = nn.SiLU()\n",
    "        self.mlp_layers = nn.Sequential(\n",
    "            ResBlock(\n",
    "                nn.Sequential(\n",
    "                    nn.Linear(molecule_dim, hdim),\n",
    "                    nl,\n",
    "                    nn.Linear(hdim, hdim),\n",
    "                    nl,\n",
    "                    nn.Linear(hdim, molecule_dim),\n",
    "                )\n",
    "            ),\n",
    "            ResBlock(\n",
    "                nn.Sequential(\n",
    "                    nn.Linear(molecule_dim, hdim),\n",
    "                    nl,\n",
    "                    nn.Linear(hdim, hdim),\n",
    "                    nl,\n",
    "                    nn.Linear(hdim, molecule_dim),\n",
    "                )\n",
    "            ),\n",
    "            ResBlock(\n",
    "                nn.Sequential(\n",
    "                    nn.Linear(molecule_dim, hdim),\n",
    "                    nl,\n",
    "                    nn.Linear(hdim, hdim),\n",
    "                    nl,\n",
    "                    nn.Linear(hdim, molecule_dim),\n",
    "                )\n",
    "            ),\n",
    "            nn.Linear(molecule_dim, prop_dim),\n",
    "        )\n",
    "\n",
    "\n",
    "    def forward(self, mol_vec):\n",
    "        mol_vec = mol_vec.type(torch.FloatTensor)\n",
    "        #mol_vec = (mol_vec - mol_vec.mean(0))/(mol_vec.std(0) + 1)\n",
    "        mz_res = self.mlp_layers(mol_vec.to(device))\n",
    "        return mz_res\n",
    "    \n",
    "def train_evaluate(net, train_loader, test_loader, n_epochs, **opt_params):\n",
    "    criterion = nn.MSELoss()\n",
    "    optimizer = optim.Adam(net.parameters(), **opt_params)\n",
    "\n",
    "    losses = {'train': {}, 'test': {}}\n",
    "    for epoch in tqdm(range(n_epochs)):\n",
    "        losses['train'][epoch] = 0\n",
    "        losses['test'][epoch] = 0\n",
    "        for inputs, targets in train_loader:\n",
    "            optimizer.zero_grad()\n",
    "            loss = criterion(net(inputs), targets.float().to(device))\n",
    "            loss.backward()\n",
    "            optimizer.step()\n",
    "\n",
    "            losses['train'][epoch] += loss.item() / len(train_loader)\n",
    "        \n",
    "        for inputs, targets in test_loader:\n",
    "            with torch.no_grad():\n",
    "                loss = criterion(net(inputs), targets.to(device))\n",
    "                losses['test'][epoch] += loss.item() / len(test_loader)\n",
    "                \n",
    "                if epoch % 50 == 0:\n",
    "                    pass\n",
    "                    #plt.figure()\n",
    "                    #plt.title(f'Loss {loss}, intensities')\n",
    "                    #pred = net(inputs).data\n",
    "                    #plt.scatter(10**targets[0][mz_dim:], 10**pred[0][mz_dim:])\n",
    "                    #plt.figure()\n",
    "                    #plt.title('MZs')\n",
    "                    #plt.scatter(10**targets[0][:mz_dim], 10**pred[0][:mz_dim])\n",
    "                    #plot_specs(\n",
    "                    #    targets[0].data, pred[0].data\n",
    "                    #)\n",
    "\n",
    "                \n",
    "    return losses\n",
    "\n",
    "\n",
    "train_loader = DataLoader(train_data, batch_size=200, shuffle=True)\n",
    "test_loader = DataLoader(test_data, batch_size=100, shuffle=True)\n",
    "\n",
    "curves = {}\n",
    "model = Mol2SpecSimple(molecule_dim=molecule_dim, prop_dim=prop_dim)\n",
    "model.to(device)\n",
    "curves['simple'] = train_evaluate(model, train_loader, test_loader, n_epochs=400, lr=3e-4)#, momentum=0.9)\n",
    "\n",
    "\n",
    "plt.figure()\n",
    "for ltype, losses in curves.items():\n",
    "    for name, loss in losses.items():\n",
    "        plt.plot(list(loss.values()), label=f'{ltype} {name}')\n",
    "        plt.yscale('log')\n",
    "plt.legend()\n",
    "plt.xlabel('Epoch')\n",
    "plt.ylabel('Loss')"
   ]
  },
  {
   "cell_type": "code",
   "execution_count": 15,
   "id": "1711a4c1-60cc-4845-b57d-215e7482878f",
   "metadata": {},
   "outputs": [
    {
     "data": {
      "image/png": "[encoded data removed]",
      "text/plain": [
       "<Figure size 432x288 with 1 Axes>"
      ]
     },
     "metadata": {
      "needs_background": "light"
     },
     "output_type": "display_data"
    },
    {
     "data": {
      "text/plain": [
       "<Figure size 432x288 with 0 Axes>"
      ]
     },
     "metadata": {},
     "output_type": "display_data"
    }
   ],
   "source": [
    "with torch.no_grad():\n",
    "    idx = 100\n",
    "    x = train_data[idx][0]\n",
    "    y = train_data[idx][1]\n",
    "    pred = model(torch.Tensor(x[np.newaxis, :])).data[0]\n",
    "    plot_specs(\n",
    "        y, pred.cpu().numpy(),\n",
    "        labels=['true', 'predicted'],\n",
    "    )\n",
    "    plt.figure()\n",
    "    #plt.scatter(10**y[:mz_dim] - 1, 10**pred[:mz_dim] - 1)\n"
   ]
  },
  {
   "cell_type": "code",
   "execution_count": 65,
   "id": "cfbb3bd7-82d3-4486-9a5f-414c1201f835",
   "metadata": {},
   "outputs": [
    {
     "data": {
      "image/png": "[encoded data removed]",
      "text/plain": [
       "<Figure size 144x144 with 1 Axes>"
      ]
     },
     "metadata": {
      "needs_background": "light"
     },
     "output_type": "display_data"
    },
    {
     "data": {
      "image/png": "[encoded data removed]",
      "text/plain": [
       "<Figure size 1080x216 with 1 Axes>"
      ]
     },
     "metadata": {
      "needs_background": "light"
     },
     "output_type": "display_data"
    }
   ],
   "source": [
    "with torch.no_grad():\n",
    "    idx = 21\n",
    "    x = test_data[idx][0]\n",
    "    y = test_data[idx][1]\n",
    "    pred = model(torch.Tensor(x[np.newaxis, :])).data[0]\n",
    "    plot_specs(\n",
    "        y, pred.cpu().numpy(),\n",
    "        labels=['true', 'predicted'],\n",
    "        mol=test_data.molecules[idx]\n",
    "    )\n",
    "    plt.legend()\n",
    "    #plt.figure()\n",
    "    #plt.scatter(10**y[:mz_dim] - 1, 10**pred[:mz_dim] - 1)\n",
    "    plt.xlim(40, 400)"
   ]
  },
  {
   "cell_type": "code",
   "execution_count": 14,
   "id": "2a7fa5ca-2d2d-4f38-bd45-35e1a05ce128",
   "metadata": {},
   "outputs": [
    {
     "data": {
      "text/plain": [
       "array([[3, 0],\n",
       "       [2, 1],\n",
       "       [1, 2]])"
      ]
     },
     "execution_count": 14,
     "metadata": {},
     "output_type": "execute_result"
    }
   ],
   "source": [
    "import numpy as np\n",
    "a = np.array([[1,2], [2, 1], [3, 0]])\n",
    "\n",
    "\n",
    "a[a[:,1].argsort(), :]"
   ]
  },
  {
   "cell_type": "code",
   "execution_count": 5,
   "id": "9a3826e3-c1e6-4742-901e-48f111a9f7c3",
   "metadata": {},
   "outputs": [
    {
     "data": {
      "text/plain": [
       "[[1, 2, 2], [1, 2]]"
      ]
     },
     "execution_count": 5,
     "metadata": {},
     "output_type": "execute_result"
    }
   ],
   "source": [
    "l = [[1,2] for x in range(2)]\n",
    "l[0].append(2)\n",
    "l"
   ]
  }
 ],
 "metadata": {
  "kernelspec": {
   "display_name": "Python 3 (ipykernel)",
   "language": "python",
   "name": "python3"
  },
  "language_info": {
   "codemirror_mode": {
    "name": "ipython",
    "version": 3
   },
   "file_extension": ".py",
   "mimetype": "text/x-python",
   "name": "python",
   "nbconvert_exporter": "python",
   "pygments_lexer": "ipython3",
   "version": "3.9.7"
  }
 },
 "nbformat": 4,
 "nbformat_minor": 5
}
