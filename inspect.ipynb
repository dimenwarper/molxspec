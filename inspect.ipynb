{
 "cells": [
  {
   "cell_type": "code",
   "execution_count": 2,
   "id": "0ab9156f-103b-4f1a-a5e0-702cf52d1faa",
   "metadata": {},
   "outputs": [],
   "source": [
    "from matplotlib import pyplot as plt\n",
    "import os\n",
    "import glob\n",
    "import pandas as pd\n",
    "\n",
    "best_test = []\n",
    "\n",
    "plot = False\n",
    "for dr in sorted(glob.glob('runs/model_*prod')):\n",
    "    dr = dr.replace('runs/', '')\n",
    "    lcfname = f'runs/{dr}/learning_curves.tsv'\n",
    "    if os.path.exists(lcfname):\n",
    "        lcurves = pd.read_csv(lcfname)\n",
    "        best_test.append([dr, lcurves['test'][40:].min()])\n",
    "        if plot:\n",
    "            plt.figure()\n",
    "            plt.plot(lcurves['train'], label='train')\n",
    "            plt.plot(lcurves['test'], label='test')\n",
    "            plt.yscale('log')\n",
    "            plt.title(dr)\n",
    "best_test = pd.DataFrame(best_test, columns=['setup', 'test_error'])"
   ]
  },
  {
   "cell_type": "code",
   "execution_count": 3,
   "id": "7f787373-35af-49c2-ba73-a6d47a09d92f",
   "metadata": {},
   "outputs": [
    {
     "data": {
      "text/html": [
       "<div>\n",
       "<style scoped>\n",
       "    .dataframe tbody tr th:only-of-type {\n",
       "        vertical-align: middle;\n",
       "    }\n",
       "\n",
       "    .dataframe tbody tr th {\n",
       "        vertical-align: top;\n",
       "    }\n",
       "\n",
       "    .dataframe thead th {\n",
       "        text-align: right;\n",
       "    }\n",
       "</style>\n",
       "<table border=\"1\" class=\"dataframe\">\n",
       "  <thead>\n",
       "    <tr style=\"text-align: right;\">\n",
       "      <th></th>\n",
       "      <th>setup</th>\n",
       "      <th>test_error</th>\n",
       "    </tr>\n",
       "  </thead>\n",
       "  <tbody>\n",
       "    <tr>\n",
       "      <th>1</th>\n",
       "      <td>model_mlp_hdim_1024_layers_6_bs_256_adam_prod</td>\n",
       "      <td>0.000187</td>\n",
       "    </tr>\n",
       "    <tr>\n",
       "      <th>0</th>\n",
       "      <td>model_graphconv_hdim_1024_layers_3_bs_32_adam_...</td>\n",
       "      <td>0.000192</td>\n",
       "    </tr>\n",
       "  </tbody>\n",
       "</table>\n",
       "</div>"
      ],
      "text/plain": [
       "                                               setup  test_error\n",
       "1      model_mlp_hdim_1024_layers_6_bs_256_adam_prod    0.000187\n",
       "0  model_graphconv_hdim_1024_layers_3_bs_32_adam_...    0.000192"
      ]
     },
     "execution_count": 3,
     "metadata": {},
     "output_type": "execute_result"
    }
   ],
   "source": [
    "best_test.sort_values('test_error')"
   ]
  },
  {
   "cell_type": "code",
   "execution_count": null,
   "id": "0a0d40a6-578e-48c3-9437-c6cd9aecea89",
   "metadata": {},
   "outputs": [],
   "source": []
  },
  {
   "cell_type": "code",
   "execution_count": null,
   "id": "f89ec74c-4cca-4b20-9820-35e376b95317",
   "metadata": {},
   "outputs": [],
   "source": []
  },
  {
   "cell_type": "code",
   "execution_count": null,
   "id": "d873fe40-0722-4744-8344-a3c28d681f39",
   "metadata": {},
   "outputs": [],
   "source": []
  },
  {
   "cell_type": "code",
   "execution_count": null,
   "id": "923e1d08-40a0-4755-89c4-004a4e9a6b05",
   "metadata": {},
   "outputs": [],
   "source": []
  },
  {
   "cell_type": "code",
   "execution_count": null,
   "id": "c59a67b0-1f68-4f93-85d3-e9474f424578",
   "metadata": {},
   "outputs": [],
   "source": []
  }
 ],
 "metadata": {
  "kernelspec": {
   "display_name": "Python 3 (ipykernel)",
   "language": "python",
   "name": "python3"
  },
  "language_info": {
   "codemirror_mode": {
    "name": "ipython",
    "version": 3
   },
   "file_extension": ".py",
   "mimetype": "text/x-python",
   "name": "python",
   "nbconvert_exporter": "python",
   "pygments_lexer": "ipython3",
   "version": "3.9.7"
  }
 },
 "nbformat": 4,
 "nbformat_minor": 5
}
