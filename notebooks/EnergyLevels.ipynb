{
 "cells": [
  {
   "cell_type": "code",
   "execution_count": 1,
   "id": "f60440fd-127f-4267-8cf3-4911091dbfa1",
   "metadata": {},
   "outputs": [
    {
     "name": "stderr",
     "output_type": "stream",
     "text": [
      "100%|█████████████████████████████████████████████████████████████████████████████████████████████████████████████| 144885/144885 [01:11<00:00, 2023.95it/s]\n"
     ]
    }
   ],
   "source": [
    "import utils\n",
    "\n",
    "mols, spectra = utils.gnps_parser('data/pos_processed_gnps_shuffled_with_3d_train.tsv')"
   ]
  },
  {
   "cell_type": "code",
   "execution_count": 19,
   "id": "689a615a-1c0d-4d84-b480-0dd3c015707f",
   "metadata": {},
   "outputs": [
    {
     "data": {
      "application/vnd.jupyter.widget-view+json": {
       "model_id": "62a8c37a3cd545398d32042838863fc9",
       "version_major": 2,
       "version_minor": 0
      },
      "text/plain": [
       "  0%|          | 0/144885 [00:00<?, ?it/s]"
      ]
     },
     "metadata": {},
     "output_type": "display_data"
    }
   ],
   "source": [
    "from rdkit.Chem.Descriptors import ExactMolWt\n",
    "from tqdm.notebook import tqdm\n",
    "\n",
    "MAX_ION_SHIFT = 10\n",
    "\n",
    "def get_fragmentation_level(mol, spec):\n",
    "    mass = ExactMolWt(mol)\n",
    "    min_mass, max_mass = int(max(0, mass - MAX_ION_SHIFT)), int(min(mass + MAX_ION_SHIFT, utils.MAX_MZ))\n",
    "    _spec = 10 ** spec - 1\n",
    "    frag_level = max(0.01, _spec[min_mass:max_mass + 1].sum())\n",
    "    return frag_level / _spec.sum()\n",
    "    \n",
    "\n",
    "frag_levels = [get_fragmentation_level(mols[i], spectra[i]) for i in tqdm(range(len(mols)))]"
   ]
  },
  {
   "cell_type": "code",
   "execution_count": 22,
   "id": "9efda99c-922c-4fa0-ade6-c54d0df83b28",
   "metadata": {},
   "outputs": [
    {
     "data": {
      "text/plain": [
       "Text(0, 0.5, 'Count')"
      ]
     },
     "execution_count": 22,
     "metadata": {},
     "output_type": "execute_result"
    },
    {
     "data": {
      "image/png": "[encoded data removed]",
      "text/plain": [
       "<Figure size 432x288 with 1 Axes>"
      ]
     },
     "metadata": {
      "needs_background": "light"
     },
     "output_type": "display_data"
    }
   ],
   "source": [
    "from matplotlib import pyplot as plt\n",
    "import numpy as np\n",
    "plt.hist(np.log10(np.array(frag_levels)), 50);\n",
    "plt.xlabel('fragmentation level')\n",
    "plt.ylabel('Count')"
   ]
  }
 ],
 "metadata": {
  "kernelspec": {
   "display_name": "Python 3 (ipykernel)",
   "language": "python",
   "name": "python3"
  },
  "language_info": {
   "codemirror_mode": {
    "name": "ipython",
    "version": 3
   },
   "file_extension": ".py",
   "mimetype": "text/x-python",
   "name": "python",
   "nbconvert_exporter": "python",
   "pygments_lexer": "ipython3",
   "version": "3.9.7"
  }
 },
 "nbformat": 4,
 "nbformat_minor": 5
}
