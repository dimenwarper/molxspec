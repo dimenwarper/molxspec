{
 "cells": [
  {
   "cell_type": "code",
   "execution_count": 2,
   "id": "3bf9ee2b-37a5-47e9-a299-d33332b1a78b",
   "metadata": {},
   "outputs": [],
   "source": [
    "import ijson\n",
    "from rdkit import Chem\n",
    "from tqdm import tqdm\n",
    "from rdkit import RDLogger\n",
    "import numpy as np\n",
    "import json\n",
    "\n",
    "RDLogger.DisableLog('rdApp.*')  \n",
    "import warnings\n",
    "MAX_MZ = 2000\n",
    "objects = ijson.items(open('data/ALL_GNPS.json'), 'item')\n",
    "with open('data/pos_processed_gnps.txt', 'w') as pos_fl, open('data/neg_processed_gnps.txt', 'w') as neg_fl, open('data/invalid_entries', 'w') as prob_fl:\n",
    "    for o in objects:\n",
    "        if 'esi' in o['Ion_Source'].lower() and o['ms_level'] == '2' and o['Smiles'].strip() != 'N/A' and len(o['Smiles'].strip()) > 0:     \n",
    "            with warnings.catch_warnings():\n",
    "                warnings.simplefilter(\"ignore\")\n",
    "                mol = Chem.MolFromSmiles(o['Smiles'])\n",
    "            if mol is None:\n",
    "                prob_fl.write(f'{o[\"spectrum_id\"]}\\n')\n",
    "            else:\n",
    "                spec = np.array(json.loads(o['peaks_json']))\n",
    "                if len(spec) > 0 and len(spec.shape) == 2 and spec.shape[0] >= 10 and  (spec <= 0).sum() == 0 and (spec[:, 0] > MAX_MZ).sum() == 0:\n",
    "                    if o['Ion_Mode'] == 'Positive':\n",
    "                        pos_fl.write(f\"{o['peaks_json']}\\t{o['Smiles']}\\n\")\n",
    "                    elif o['Ion_Mode'] == 'Negative':\n",
    "                        neg_fl.write(f\"{o['peaks_json']}\\t{o['Smiles']}\\n\")\n",
    "                \n",
    "            "
   ]
  },
  {
   "cell_type": "code",
   "execution_count": 5,
   "id": "d5ae3a0d-a81f-42b1-a3a4-69bafbd24863",
   "metadata": {},
   "outputs": [],
   "source": [
    "with open('data/pos_processed_gnps_shuffled.txt') as fl:\n",
    "    for i, line in enumerate(fl):\n",
    "        if len(line.strip().split('\\t')) < 2:\n",
    "            print(i, line)"
   ]
  },
  {
   "cell_type": "code",
   "execution_count": 3,
   "id": "a9e8bcaf-08ba-426d-ae30-df2bf27294d9",
   "metadata": {},
   "outputs": [
    {
     "data": {
      "text/plain": [
       "2"
      ]
     },
     "execution_count": 3,
     "metadata": {},
     "output_type": "execute_result"
    }
   ],
   "source": [
    "2"
   ]
  }
 ],
 "metadata": {
  "kernelspec": {
   "display_name": "Python 3 (ipykernel)",
   "language": "python",
   "name": "python3"
  },
  "language_info": {
   "codemirror_mode": {
    "name": "ipython",
    "version": 3
   },
   "file_extension": ".py",
   "mimetype": "text/x-python",
   "name": "python",
   "nbconvert_exporter": "python",
   "pygments_lexer": "ipython3",
   "version": "3.9.5"
  }
 },
 "nbformat": 4,
 "nbformat_minor": 5
}
