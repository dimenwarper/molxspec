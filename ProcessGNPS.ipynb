{
 "cells": [
  {
   "cell_type": "code",
   "execution_count": 25,
   "id": "3bf9ee2b-37a5-47e9-a299-d33332b1a78b",
   "metadata": {},
   "outputs": [
    {
     "name": "stderr",
     "output_type": "stream",
     "text": [
      "653031it [01:27, 7433.91it/s]                                                                                                                               \n"
     ]
    }
   ],
   "source": [
    "import ijson\n",
    "from rdkit import Chem\n",
    "from tqdm import tqdm\n",
    "from rdkit import RDLogger\n",
    "import numpy as np\n",
    "import json\n",
    "import utils\n",
    "\n",
    "\n",
    "RDLogger.DisableLog('rdApp.*')  \n",
    "import warnings\n",
    "\n",
    "objects = ijson.items(open('data/ALL_GNPS.json'), 'item')\n",
    "with open('data/pos_processed_gnps.txt', 'w') as pos_fl, open('data/neg_processed_gnps.txt', 'w') as neg_fl, open('data/invalid_entries', 'w') as prob_fl:\n",
    "    for o in tqdm(objects, total=650000):\n",
    "        if 'esi' in o['Ion_Source'].lower() and o['ms_level'] == '2' and o['Smiles'].strip() != 'N/A' and len(o['Smiles'].strip()) > 0 and o['Adduct'] in utils.ADDUCTS:     \n",
    "            with warnings.catch_warnings():\n",
    "                warnings.simplefilter(\"ignore\")\n",
    "                mol = Chem.MolFromSmiles(o['Smiles'])\n",
    "            if mol is None:\n",
    "                prob_fl.write(f'{o[\"spectrum_id\"]}\\n')\n",
    "            else:\n",
    "                spec = np.array(json.loads(o['peaks_json']))\n",
    "                if len(spec) > 0 and len(spec.shape) == 2 and spec.shape[0] >= 10 and  (spec <= 0).sum() == 0 and (spec[:, 0] > utils.MAX_MZ).sum() == 0:\n",
    "                    if o['Ion_Mode'] == 'Positive':\n",
    "                        pos_fl.write(f\"{o['spectrum_id']}\\t{o['Adduct']}\\t{o['peaks_json']}\\t{o['Smiles']}\\n\")\n",
    "                    elif o['Ion_Mode'] == 'Negative':\n",
    "                        neg_fl.write(f\"{o['spectrum_id']}\\t{o['Adduct']}\\t{o['peaks_json']}\\t{o['Smiles']}\\n\")\n",
    "                \n",
    "            "
   ]
  },
  {
   "cell_type": "code",
   "execution_count": 5,
   "id": "d5ae3a0d-a81f-42b1-a3a4-69bafbd24863",
   "metadata": {},
   "outputs": [],
   "source": [
    "with open('data/pos_processed_gnps_shuffled.txt') as fl:\n",
    "    for i, line in enumerate(fl):\n",
    "        if len(line.strip().split('\\t')) < 2:\n",
    "            print(i, line)"
   ]
  },
  {
   "cell_type": "code",
   "execution_count": 22,
   "id": "a9e8bcaf-08ba-426d-ae30-df2bf27294d9",
   "metadata": {},
   "outputs": [
    {
     "name": "stdout",
     "output_type": "stream",
     "text": [
      "CCMSLIB00000001547\n"
     ]
    }
   ],
   "source": [
    "import ijson\n",
    "from tqdm import tqdm\n",
    "from rdkit import RDLogger\n",
    "import numpy as np\n",
    "import json\n",
    "from collections import Counter\n",
    "\n",
    "RDLogger.DisableLog('rdApp.*')  \n",
    "import warnings\n",
    "MAX_MZ = 2000\n",
    "objects = ijson.items(open('data/ALL_GNPS.json'), 'item')\n",
    "adducts = []\n",
    "for o in objects:\n",
    "    print(o['spectrum_id'])\n",
    "    break\n",
    "    adducts.append(o['Adduct'])\n"
   ]
  },
  {
   "cell_type": "code",
   "execution_count": 19,
   "id": "58d2e543-e9ad-49ba-8e9f-f1865e47af52",
   "metadata": {},
   "outputs": [
    {
     "data": {
      "text/plain": [
       "array(['[M+H]+', '[M+Na]+', 'M+H', 'M-H', '[M-H2O+H]+', '[M-H]-',\n",
       "       '[M+NH4]+', 'M+NH4', 'M+Na'], dtype=object)"
      ]
     },
     "execution_count": 19,
     "metadata": {},
     "output_type": "execute_result"
    }
   ],
   "source": [
    "import pandas as pd\n",
    "pd.Series(dict(Counter(adducts))).sort_values(ascending=False)[:9].index.values"
   ]
  }
 ],
 "metadata": {
  "kernelspec": {
   "display_name": "Python 3 (ipykernel)",
   "language": "python",
   "name": "python3"
  },
  "language_info": {
   "codemirror_mode": {
    "name": "ipython",
    "version": 3
   },
   "file_extension": ".py",
   "mimetype": "text/x-python",
   "name": "python",
   "nbconvert_exporter": "python",
   "pygments_lexer": "ipython3",
   "version": "3.9.7"
  }
 },
 "nbformat": 4,
 "nbformat_minor": 5
}
